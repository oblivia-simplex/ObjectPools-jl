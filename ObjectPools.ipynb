{
 "cells": [
  {
   "cell_type": "markdown",
   "metadata": {},
   "source": [
    "# Object Pools"
   ]
  },
  {
   "cell_type": "markdown",
   "metadata": {},
   "source": [
    "Let's start with a simple sketch, without worrying about type safety. All we really need, here, is a queue of objects. But when we pull objects from this pool, they need to come equipped with some means of rejoining the pool."
   ]
  },
  {
   "cell_type": "code",
   "execution_count": 1,
   "metadata": {},
   "outputs": [],
   "source": [
    "using DataStructures"
   ]
  },
  {
   "cell_type": "code",
   "execution_count": 2,
   "metadata": {},
   "outputs": [],
   "source": [
    "mutable struct UnsafePool{T}\n",
    "    q::Queue{T}\n",
    "    UnsafePool{T}() where {T} = new(Queue{T}())\n",
    "end"
   ]
  },
  {
   "cell_type": "markdown",
   "metadata": {},
   "source": [
    "To do this, we'll wrap them in a struct that contains both the object and a reference back to the pool from whence it came."
   ]
  },
  {
   "cell_type": "code",
   "execution_count": 3,
   "metadata": {},
   "outputs": [],
   "source": [
    "mutable struct Recyclable{T}\n",
    "    inner::Union{Nothing, T}\n",
    "    home::Union{Nothing,Ref{UnsafePool{T}}}\n",
    "end"
   ]
  },
  {
   "cell_type": "code",
   "execution_count": 4,
   "metadata": {},
   "outputs": [
    {
     "data": {
      "text/plain": [
       "pull! (generic function with 1 method)"
      ]
     },
     "execution_count": 4,
     "metadata": {},
     "output_type": "execute_result"
    }
   ],
   "source": [
    "function pull!(pool::UnsafePool{T})::Recyclable{T} where {T}\n",
    "    item = dequeue!(pool.q)\n",
    "    recyc = Recyclable{T}(item, Ref{UnsafePool{T}}(pool))\n",
    "    return recyc\n",
    "end"
   ]
  },
  {
   "cell_type": "code",
   "execution_count": 5,
   "metadata": {},
   "outputs": [
    {
     "data": {
      "text/plain": [
       "UnsafePool{Int64}(Queue{Int64}(Deque [[1, 2, 3, 4]]))"
      ]
     },
     "execution_count": 5,
     "metadata": {},
     "output_type": "execute_result"
    }
   ],
   "source": [
    "# for example\n",
    "u = UnsafePool{Int}()\n",
    "enqueue!(u.q, 1)\n",
    "enqueue!(u.q, 2)\n",
    "enqueue!(u.q, 3)\n",
    "enqueue!(u.q, 4)\n",
    "u"
   ]
  },
  {
   "cell_type": "code",
   "execution_count": 6,
   "metadata": {},
   "outputs": [
    {
     "data": {
      "text/plain": [
       "Recyclable{Int64}(1, Base.RefValue{UnsafePool{Int64}}(UnsafePool{Int64}(Queue{Int64}(Deque [[2, 3, 4]]))))"
      ]
     },
     "execution_count": 6,
     "metadata": {},
     "output_type": "execute_result"
    }
   ],
   "source": [
    "recyc = pull!(u)"
   ]
  },
  {
   "cell_type": "code",
   "execution_count": 7,
   "metadata": {},
   "outputs": [
    {
     "data": {
      "text/plain": [
       "recycle! (generic function with 1 method)"
      ]
     },
     "execution_count": 7,
     "metadata": {},
     "output_type": "execute_result"
    }
   ],
   "source": [
    "function recycle!(r::Recyclable{T}) where {T}\n",
    "    if r.home === nothing\n",
    "        error(\"Already recycled $r\")\n",
    "    end\n",
    "    enqueue!(r.home[].q, r.inner)\n",
    "    r.home = nothing\n",
    "    r.inner = nothing\n",
    "    return\n",
    "end"
   ]
  },
  {
   "cell_type": "code",
   "execution_count": 8,
   "metadata": {},
   "outputs": [
    {
     "name": "stdout",
     "output_type": "stream",
     "text": [
      "Recyclable{Int64}(1, Base.RefValue{UnsafePool{Int64}}(UnsafePool{Int64}(Queue{Int64}(Deque [[2, 3, 4]]))))\n"
     ]
    }
   ],
   "source": [
    "# let's look at recyc, the wrapped object we pulled from the pool\n",
    "println(recyc)"
   ]
  },
  {
   "cell_type": "code",
   "execution_count": 9,
   "metadata": {},
   "outputs": [
    {
     "name": "stdout",
     "output_type": "stream",
     "text": [
      "UnsafePool{Int64}(Queue{Int64}(Deque [[2, 3, 4]]))\n"
     ]
    }
   ],
   "source": [
    "# and here's the pool it came from\n",
    "println(u)"
   ]
  },
  {
   "cell_type": "code",
   "execution_count": 10,
   "metadata": {},
   "outputs": [
    {
     "name": "stdout",
     "output_type": "stream",
     "text": [
      "Recyclable{Int64}(2, Base.RefValue{UnsafePool{Int64}}(UnsafePool{Int64}(Queue{Int64}(Deque [[2, 3, 4]]))))\n"
     ]
    }
   ],
   "source": [
    "# maybe we do some work on recyc\n",
    "recyc.inner += 1\n",
    "println(recyc)"
   ]
  },
  {
   "cell_type": "code",
   "execution_count": 11,
   "metadata": {
    "scrolled": true
   },
   "outputs": [
    {
     "name": "stdout",
     "output_type": "stream",
     "text": [
      "recyc = Recyclable{Int64}(2, Base.RefValue{UnsafePool{Int64}}(UnsafePool{Int64}(Queue{Int64}(Deque [[2, 3, 4]]))))\n",
      "pool before recycling: UnsafePool{Int64}(Queue{Int64}(Deque [[2, 3, 4]]))\n",
      "pool after recycling: UnsafePool{Int64}(Queue{Int64}(Deque [[2, 3, 4, 2]]))\n"
     ]
    }
   ],
   "source": [
    "# now we're done with it, so we recycle it\n",
    "println(\"recyc = $recyc\")\n",
    "println(\"pool before recycling: $u\")\n",
    "recycle!(recyc)\n",
    "println(\"pool after recycling: $u\")\n",
    "\n"
   ]
  },
  {
   "cell_type": "code",
   "execution_count": 12,
   "metadata": {},
   "outputs": [
    {
     "name": "stdout",
     "output_type": "stream",
     "text": [
      "recyc after recycling (throw this away): Recyclable{Int64}(nothing, nothing)\n"
     ]
    }
   ],
   "source": [
    "println(\"recyc after recycling (throw this away): $recyc\")"
   ]
  },
  {
   "cell_type": "markdown",
   "metadata": {},
   "source": [
    "## Let's try this with non-primitive objects now"
   ]
  },
  {
   "cell_type": "code",
   "execution_count": 13,
   "metadata": {},
   "outputs": [
    {
     "data": {
      "text/plain": [
       "UnsafePool{Array{Float64,2}}(Queue{Array{Float64,2}}(Deque [Array{Float64,2}[]]))"
      ]
     },
     "execution_count": 13,
     "metadata": {},
     "output_type": "execute_result"
    }
   ],
   "source": [
    "array_pool = UnsafePool{Array{Float64,2}}()"
   ]
  },
  {
   "cell_type": "code",
   "execution_count": 14,
   "metadata": {},
   "outputs": [
    {
     "name": "stdout",
     "output_type": "stream",
     "text": [
      "UnsafePool{Array{Float64,2}}(Queue{Array{Float64,2}}(Deque [[[0.5568431818629178 0.7547459996996309 0.9553578983317306 0.32707013652063743 0.8947547822970128 0.9293684900299208 0.5718524791344497 0.04857737740735346 0.07158813900667793 0.9303387012520106; 0.4972376886537542 0.5301486534287818 0.11236101834519485 0.9709202494298121 0.7355459271875706 0.22149259786716513 0.10331453082339781 0.9367725035479826 0.12898267871664237 0.4213419317182656; 0.7824929835945651 0.847526113323327 0.675493271195216 0.733703631237737 0.890216402726461 0.4777847587395663 0.12179497381622806 0.6883351435563649 0.7005507850108079 0.40988851130799286; 0.5511736492833148 0.7457853108954973 0.9850851130084965 0.5168377503913746 0.3385674094626525 0.1854342186359499 0.5440201711628603 0.571163764235852 0.778728770026778 0.24177994196522468; 0.3976030030834692 0.0402775035542553 0.7005399676623321 0.6155755622555952 0.7425807494973125 0.9859517269930667 0.9718875791969563 0.04355292872022676 0.9318020702777778 0.9606035451286832; 0.251545454918616 0.1582338786108497 0.4206312945053421 0.814260833395757 0.9803243037166975 0.2823827257644289 0.596511551168202 0.015231142445952583 0.3575880035832284 0.8766023667949383; 0.026164608960091984 0.6086377088013173 0.392985384875701 0.23715971343524922 0.6214281846225977 0.3215102860261265 0.11313365408642828 0.6861508270986016 0.9400623502402436 0.259490539826726; 0.7874108092052652 0.44856383764323926 0.9126665284653077 0.6228711086134016 0.6881836022943557 0.30377100320760486 0.23130677309247782 0.34311816250730076 0.3187689696897935 0.8363229108139263; 0.29311290749342045 0.4068907703284508 0.6578858631935502 0.8425982726245809 0.4389266233226856 0.5116254382677321 0.6713826213044694 0.8905312209503007 0.49995351416897216 0.7572972108488703; 0.7161484412265926 0.9154461207775424 0.22643271559416323 0.6700710968928993 0.4004100743020551 0.521132251219866 0.8050809741052376 0.8199926196288834 0.3593078541900969 0.8179405185796713], [0.7767616458664441 0.0891684324934019 0.6562478211361285 0.3903064046018865 0.22303418783611195 0.06308223645489974 0.15327308405423845 0.7159156229383359 0.23765866014922787 0.44373521928040804; 0.8551712819934294 0.4021412492444507 0.11795871023093074 0.7741192307323037 0.22935372223404138 0.9010525582064199 0.9359777833391099 0.6899123774434441 0.9542255522834799 0.5770183403215323; 0.23811013655308955 0.3030708394158925 0.3722550930140447 0.9084258856984238 0.4076289456839257 0.2642196610327421 0.997592135546044 0.41989517807700727 0.607036305682007 0.5287342151297376; 0.25580015554409674 0.3861223460055727 0.28765604789442856 0.7412060860159204 0.42899570404854037 0.8696529929638501 0.4698857325074699 0.001534468037021286 0.3403413062635938 0.5040584051571138; 0.9498610349093921 0.8715108532728182 0.6890725265486302 0.6274010395809693 0.8308109148034772 0.1505149233622809 0.7744448649227214 0.8684056564235987 0.8837033410408597 0.9346677400182086; 0.5555507815768297 0.05869238240290153 0.30487005812169365 0.40237115458439576 0.5796582295506838 0.5067244195996441 0.22910333154100537 0.6058907255942763 0.6287445627586221 0.7452962647806176; 0.8199187641114765 0.571293939736792 0.966858663859266 0.9372283052902723 0.16500115129197024 0.9913774321590096 0.5479031516037851 0.1864422822300953 0.44824224106135735 0.014931831752445834; 0.2307383926473281 0.8669570725360698 0.11730658478344336 0.029189982372044065 0.9911683937301292 0.030668276810829287 0.5459873227575438 0.4340801727288608 0.8545849075242042 0.6205597053669392; 0.7460852485349116 0.3070009295250755 0.6731477927871006 0.6333648121129305 0.40434572985974215 0.6246554305571543 0.6613579378373262 0.5663214778893908 0.6400563320612569 0.021924815715637758; 0.9638657655079126 0.29908946887261645 0.925068385861815 0.3917478218612229 0.6892474158034128 0.35253703506877665 0.6382569852511288 0.16834798922265248 0.8092487685932395 0.151247368997663], [0.28413211128524307 0.572189758631857 0.15780004265319358 0.6118842628032279 0.8991938003987057 0.9450884767667282 0.7315475615671603 0.02620706325827049 0.49161067091377864 0.8475969181792082; 0.30591246666910576 0.526153626415925 0.21056452664189806 0.7930706427098 0.7903221436510603 0.799448368113314 0.9113735962076182 0.45272816863209653 0.8615493552704243 0.49811835776952207; 0.376179667774736 0.9900262696622679 0.9459422711155943 0.7379046075474471 0.5547424898176001 0.5760792474881109 0.8636669349965831 0.884572428598086 0.924553552899128 0.19828632699410642; 0.5683359256353417 0.5844577013659338 0.4534942457368327 0.14951957683318828 0.9647852255256584 0.18823015817150068 0.7558096658395423 0.11025549681624902 0.0407233632994326 0.8323285584605176; 0.537007153153229 0.712086397767949 0.03128865595323016 0.016711118650007295 0.0875583960821642 0.7678535820998877 0.28691658168827416 0.2944001340562754 0.3933068192174469 0.18562924432864403; 0.34995431505134533 0.23103308579794124 0.980267361408633 0.7070299284585415 0.5570915296217569 0.3450750919071892 0.1582865825384292 0.9910226822004826 0.18576923033641934 0.8176881408317107; 0.6166493956525227 0.023227979460013426 0.4799370677291497 0.06563805238311904 0.4114799922888617 0.07673333893683965 0.380184677822724 0.32378349342991286 0.5523237774763767 0.781197914335896; 0.15674501594929158 0.0032413087074594227 0.27392319912058616 0.7474840751414331 0.5722855516849226 0.8921674815898186 0.6139456019103058 0.31075908466413726 0.8831071864652131 0.8785727978526168; 0.6022252435266613 0.791408136540845 0.9288789545227367 0.6953782464963543 0.9646872187718454 0.8611049764220489 0.9643609361576646 0.9836956296897683 0.7866412829972684 0.8980921623337619; 0.5290856152392562 0.8399724432943123 0.45266977533132224 0.9446628966161403 0.8001966714210254 0.40710068590075554 0.5329132466015467 0.6964222018241979 0.19066094076561635 0.9367699911165832], [0.4801349071658958 0.12145527028812775 0.14107983105334987 0.6214865977890012 0.7500408348989385 0.8731202966467073 0.222918829117424 0.19870394770713085 0.3970477504844725 0.5579849343092436; 0.2984377697988647 0.5672082555207807 0.4690414443845927 0.8720978066707439 0.2672268890364986 0.7570818375777493 0.8251237870770911 0.24768833233132215 0.1676040967100627 0.6136680910166119; 0.4238823144779029 0.7110908970775351 0.6135407097226306 0.9296758187229446 0.7306769182910982 0.8031236775262514 0.7059386225669597 0.1430417225181584 0.23466796926951217 0.5769890404263893; 0.7798089416286804 0.6042276152647199 0.18086534997333925 0.9212038399292164 0.035467259803895645 0.3921314629454109 0.29513218412161013 0.24773157770907184 0.571084856767887 0.25964441792259807; 0.09949099060049993 0.4039567697159552 0.06980642177992946 0.3413267134938205 0.808965230146578 0.20825072138552603 0.7145187722060866 0.0022436300808270637 0.5849399303593308 0.9962407190513243; 0.9926338189130413 0.01471744688540677 0.8958831698904692 0.7744924580944514 0.9166642710941557 0.45461071108146234 0.49824025540709194 0.5026277227611131 0.3122372166307599 0.6062280758793293; 0.5961207367901364 0.004945227987144696 0.9562531263096721 0.29278410482377537 0.010367555322886357 0.7300203770356797 0.3930727053762082 0.4317790234865104 0.7665207863907706 0.7049886302205557; 0.7008162842167578 0.5607728992587224 0.12145664284208424 0.6797705336901461 0.7799553886647026 0.4267806411689694 0.21125487532299214 0.18445467149111328 0.09550850141887901 0.9817269891963716; 0.19616982726709287 0.7078169106301824 0.5854025504193054 0.5101711442273542 0.5087245197814712 0.8201980446139094 0.38899530094386314 0.7334990806792256 0.4251067099491317 0.13334988903701084; 0.48866352072960906 0.2591275065456553 0.4314842701970867 0.6877685639422866 0.38495671118731933 0.974854257789272 0.3157767164062537 0.8502611760329215 0.7045988784606023 0.08875840137105873]]]))\n"
     ]
    }
   ],
   "source": [
    "# now let's fill it up with a few expensively produced objects\n",
    "for i in 1:4\n",
    "    enqueue!(array_pool.q, rand(10, 10))\n",
    "end\n",
    "println(array_pool)"
   ]
  },
  {
   "cell_type": "code",
   "execution_count": 15,
   "metadata": {},
   "outputs": [
    {
     "name": "stdout",
     "output_type": "stream",
     "text": [
      "remaining in pool: 3\n",
      "max val in ar is 0.9859517269930667\n",
      "remaining in pool: 4\n",
      "ar = Recyclable{Array{Float64,2}}(nothing, nothing)\n"
     ]
    }
   ],
   "source": [
    "# take a recyclable container from the pool\\\n",
    "ar = pull!(array_pool)\n",
    "println(\"remaining in pool: $(length(array_pool.q))\")\n",
    "# do some work on it\n",
    "println(\"max val in ar is $(maximum(ar.inner))\")\n",
    "# now return it to the pool\n",
    "recycle!(ar)\n",
    "println(\"remaining in pool: $(length(array_pool.q))\")\n",
    "println(\"ar = $ar\")"
   ]
  },
  {
   "cell_type": "markdown",
   "metadata": {},
   "source": [
    "## Something approximating Python's `with` syntax"
   ]
  },
  {
   "cell_type": "markdown",
   "metadata": {},
   "source": [
    "It would be nice if we didn't have to worry about recycling our pool items directly, and could just let the Object Pool abstraction layer take care of that kind of thing. Here, we'll try to implement something similar to Python's `with` syntax..."
   ]
  },
  {
   "cell_type": "code",
   "execution_count": 19,
   "metadata": {},
   "outputs": [
    {
     "data": {
      "text/plain": [
       "from_pool (generic function with 1 method)"
      ]
     },
     "execution_count": 19,
     "metadata": {},
     "output_type": "execute_result"
    }
   ],
   "source": [
    "function from_pool(f::Function, pool::Ref{UnsafePool{T}}) where {T}\n",
    "    r = pull!(pool[])\n",
    "    try\n",
    "        result = f(r.inner)\n",
    "        return result\n",
    "    finally\n",
    "        println(\"recycling...\")\n",
    "        recycle!(r)\n",
    "    end\n",
    "end\n"
   ]
  },
  {
   "cell_type": "code",
   "execution_count": 26,
   "metadata": {},
   "outputs": [
    {
     "name": "stdout",
     "output_type": "stream",
     "text": [
      "The maximum value in this array is 0.9962407190513243\n",
      "recycling...\n"
     ]
    }
   ],
   "source": [
    "from_pool(Ref(array_pool)) do array\n",
    "    println(\"The maximum value in this array is $(maximum(array))\")\n",
    "end\n",
    "    "
   ]
  },
  {
   "cell_type": "markdown",
   "metadata": {},
   "source": [
    "## Thread Safety"
   ]
  },
  {
   "cell_type": "markdown",
   "metadata": {},
   "source": [
    "So far, we've been playing around with an unsafe model of our Object Pool, but this sort of data structure isn't much use to us if we can't access it safely across threads."
   ]
  }
 ],
 "metadata": {
  "kernelspec": {
   "display_name": "Julia 1.5.2",
   "language": "julia",
   "name": "julia-1.5"
  },
  "language_info": {
   "file_extension": ".jl",
   "mimetype": "application/julia",
   "name": "julia",
   "version": "1.5.2"
  }
 },
 "nbformat": 4,
 "nbformat_minor": 4
}
