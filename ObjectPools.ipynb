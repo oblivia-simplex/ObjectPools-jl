{
 "cells": [
  {
   "cell_type": "markdown",
   "metadata": {},
   "source": [
    "# Object Pools"
   ]
  },
  {
   "cell_type": "markdown",
   "metadata": {},
   "source": [
    "Let's start with a simple sketch, without worrying about type safety. All we really need, here, is a queue of objects. But when we pull objects from this pool, they need to come equipped with some means of rejoining the pool."
   ]
  },
  {
   "cell_type": "code",
   "execution_count": 1,
   "metadata": {},
   "outputs": [],
   "source": [
    "using DataStructures"
   ]
  },
  {
   "cell_type": "code",
   "execution_count": 2,
   "metadata": {},
   "outputs": [],
   "source": [
    "mutable struct UnsafePool{T}\n",
    "    q::Queue{T}\n",
    "    UnsafePool{T}() where {T} = new(Queue{T}())\n",
    "end"
   ]
  },
  {
   "cell_type": "markdown",
   "metadata": {},
   "source": [
    "To do this, we'll wrap them in a struct that contains both the object and a reference back to the pool from whence it came."
   ]
  },
  {
   "cell_type": "code",
   "execution_count": 3,
   "metadata": {},
   "outputs": [],
   "source": [
    "mutable struct Recyclable{T}\n",
    "    inner::Union{Nothing, T}\n",
    "    home::Union{Nothing,Ref{UnsafePool{T}}}\n",
    "end"
   ]
  },
  {
   "cell_type": "code",
   "execution_count": 4,
   "metadata": {},
   "outputs": [
    {
     "data": {
      "text/plain": [
       "pull! (generic function with 1 method)"
      ]
     },
     "execution_count": 4,
     "metadata": {},
     "output_type": "execute_result"
    }
   ],
   "source": [
    "function pull!(pool::UnsafePool{T})::Recyclable{T} where {T}\n",
    "    item = dequeue!(pool.q)\n",
    "    recyc = Recyclable{T}(item, Ref{UnsafePool{T}}(pool))\n",
    "    return recyc\n",
    "end"
   ]
  },
  {
   "cell_type": "code",
   "execution_count": 5,
   "metadata": {},
   "outputs": [
    {
     "data": {
      "text/plain": [
       "UnsafePool{Int64}(Queue{Int64}(Deque [[1, 2, 3, 4]]))"
      ]
     },
     "execution_count": 5,
     "metadata": {},
     "output_type": "execute_result"
    }
   ],
   "source": [
    "# for example\n",
    "u = UnsafePool{Int}()\n",
    "enqueue!(u.q, 1)\n",
    "enqueue!(u.q, 2)\n",
    "enqueue!(u.q, 3)\n",
    "enqueue!(u.q, 4)\n",
    "u"
   ]
  },
  {
   "cell_type": "code",
   "execution_count": 6,
   "metadata": {},
   "outputs": [
    {
     "data": {
      "text/plain": [
       "Recyclable{Int64}(1, Base.RefValue{UnsafePool{Int64}}(UnsafePool{Int64}(Queue{Int64}(Deque [[2, 3, 4]]))))"
      ]
     },
     "execution_count": 6,
     "metadata": {},
     "output_type": "execute_result"
    }
   ],
   "source": [
    "recyc = pull!(u)"
   ]
  },
  {
   "cell_type": "code",
   "execution_count": 7,
   "metadata": {},
   "outputs": [
    {
     "data": {
      "text/plain": [
       "recycle! (generic function with 1 method)"
      ]
     },
     "execution_count": 7,
     "metadata": {},
     "output_type": "execute_result"
    }
   ],
   "source": [
    "function recycle!(r::Recyclable{T}) where {T}\n",
    "    if r.home === nothing\n",
    "        error(\"Already recycled $r\")\n",
    "    end\n",
    "    enqueue!(r.home[].q, r.inner)\n",
    "    r.home = nothing\n",
    "    r.inner = nothing\n",
    "    return\n",
    "end"
   ]
  },
  {
   "cell_type": "code",
   "execution_count": 8,
   "metadata": {},
   "outputs": [
    {
     "name": "stdout",
     "output_type": "stream",
     "text": [
      "Recyclable{Int64}(1, Base.RefValue{UnsafePool{Int64}}(UnsafePool{Int64}(Queue{Int64}(Deque [[2, 3, 4]]))))\n"
     ]
    }
   ],
   "source": [
    "# let's look at recyc, the wrapped object we pulled from the pool\n",
    "println(recyc)"
   ]
  },
  {
   "cell_type": "code",
   "execution_count": 9,
   "metadata": {},
   "outputs": [
    {
     "name": "stdout",
     "output_type": "stream",
     "text": [
      "UnsafePool{Int64}(Queue{Int64}(Deque [[2, 3, 4]]))\n"
     ]
    }
   ],
   "source": [
    "# and here's the pool it came from\n",
    "println(u)"
   ]
  },
  {
   "cell_type": "code",
   "execution_count": 10,
   "metadata": {},
   "outputs": [
    {
     "name": "stdout",
     "output_type": "stream",
     "text": [
      "Recyclable{Int64}(2, Base.RefValue{UnsafePool{Int64}}(UnsafePool{Int64}(Queue{Int64}(Deque [[2, 3, 4]]))))\n"
     ]
    }
   ],
   "source": [
    "# maybe we do some work on recyc\n",
    "recyc.inner += 1\n",
    "println(recyc)"
   ]
  },
  {
   "cell_type": "code",
   "execution_count": 11,
   "metadata": {
    "scrolled": true
   },
   "outputs": [
    {
     "name": "stdout",
     "output_type": "stream",
     "text": [
      "recyc = Recyclable{Int64}(2, Base.RefValue{UnsafePool{Int64}}(UnsafePool{Int64}(Queue{Int64}(Deque [[2, 3, 4]]))))\n",
      "pool before recycling: UnsafePool{Int64}(Queue{Int64}(Deque [[2, 3, 4]]))\n",
      "pool after recycling: UnsafePool{Int64}(Queue{Int64}(Deque [[2, 3, 4, 2]]))\n"
     ]
    }
   ],
   "source": [
    "# now we're done with it, so we recycle it\n",
    "println(\"recyc = $recyc\")\n",
    "println(\"pool before recycling: $u\")\n",
    "recycle!(recyc)\n",
    "println(\"pool after recycling: $u\")\n",
    "\n"
   ]
  },
  {
   "cell_type": "code",
   "execution_count": 12,
   "metadata": {},
   "outputs": [
    {
     "name": "stdout",
     "output_type": "stream",
     "text": [
      "recyc after recycling (throw this away): Recyclable{Int64}(nothing, nothing)\n"
     ]
    }
   ],
   "source": [
    "println(\"recyc after recycling (throw this away): $recyc\")"
   ]
  },
  {
   "cell_type": "markdown",
   "metadata": {},
   "source": [
    "## Let's try this with non-primitive objects now"
   ]
  },
  {
   "cell_type": "code",
   "execution_count": 13,
   "metadata": {},
   "outputs": [
    {
     "data": {
      "text/plain": [
       "UnsafePool{Array{Float64,2}}(Queue{Array{Float64,2}}(Deque [Array{Float64,2}[]]))"
      ]
     },
     "execution_count": 13,
     "metadata": {},
     "output_type": "execute_result"
    }
   ],
   "source": [
    "array_pool = UnsafePool{Array{Float64,2}}()"
   ]
  },
  {
   "cell_type": "code",
   "execution_count": 14,
   "metadata": {},
   "outputs": [
    {
     "name": "stdout",
     "output_type": "stream",
     "text": [
      "UnsafePool{Array{Float64,2}}(Queue{Array{Float64,2}}(Deque [[[]]]))\n"
     ]
    }
   ],
   "source": [
    "# now let's fill it up with a few expensively produced objects\n",
    "for i in 1:4\n",
    "    enqueue!(array_pool.q, rand(10, 10))\n",
    "end\n",
    "println(array_pool)"
   ]
  },
  {
   "cell_type": "code",
   "execution_count": 15,
   "metadata": {},
   "outputs": [
    {
     "name": "stdout",
     "output_type": "stream",
     "text": [
      "remaining in pool: 3\n",
      "max val in ar is 0.9859517269930667\n",
      "remaining in pool: 4\n",
      "ar = Recyclable{Array{Float64,2}}(nothing, nothing)\n"
     ]
    }
   ],
   "source": [
    "# take a recyclable container from the pool\\\n",
    "ar = pull!(array_pool)\n",
    "println(\"remaining in pool: $(length(array_pool.q))\")\n",
    "# do some work on it\n",
    "println(\"max val in ar is $(maximum(ar.inner))\")\n",
    "# now return it to the pool\n",
    "recycle!(ar)\n",
    "println(\"remaining in pool: $(length(array_pool.q))\")\n",
    "println(\"ar = $ar\")"
   ]
  },
  {
   "cell_type": "markdown",
   "metadata": {},
   "source": [
    "## Something approximating Python's `with` syntax"
   ]
  },
  {
   "cell_type": "markdown",
   "metadata": {},
   "source": [
    "It would be nice if we didn't have to worry about recycling our pool items directly, and could just let the Object Pool abstraction layer take care of that kind of thing. Here, we'll try to implement something similar to Python's `with` syntax..."
   ]
  },
  {
   "cell_type": "code",
   "execution_count": 19,
   "metadata": {},
   "outputs": [
    {
     "data": {
      "text/plain": [
       "from_pool (generic function with 1 method)"
      ]
     },
     "execution_count": 19,
     "metadata": {},
     "output_type": "execute_result"
    }
   ],
   "source": [
    "function from_pool(f::Function, pool::Ref{UnsafePool{T}}) where {T}\n",
    "    r = pull!(pool[])\n",
    "    try\n",
    "        result = f(r.inner)\n",
    "        return result\n",
    "    finally\n",
    "        println(\"recycling...\")\n",
    "        recycle!(r)\n",
    "    end\n",
    "end\n"
   ]
  },
  {
   "cell_type": "code",
   "execution_count": 26,
   "metadata": {},
   "outputs": [
    {
     "name": "stdout",
     "output_type": "stream",
     "text": [
      "The maximum value in this array is 0.9962407190513243\n",
      "recycling...\n"
     ]
    }
   ],
   "source": [
    "from_pool(Ref(array_pool)) do array\n",
    "    println(\"The maximum value in this array is $(maximum(array))\")\n",
    "end\n",
    "    "
   ]
  },
  {
   "cell_type": "markdown",
   "metadata": {},
   "source": [
    "## Thread Safety"
   ]
  },
  {
   "cell_type": "markdown",
   "metadata": {},
   "source": [
    "So far, we've been playing around with an unsafe model of our Object Pool, but this sort of data structure isn't much use to us if we can't access it safely across threads."
   ]
  }
 ],
 "metadata": {
  "kernelspec": {
   "display_name": "Julia 1.5.2",
   "language": "julia",
   "name": "julia-1.5"
  },
  "language_info": {
   "file_extension": ".jl",
   "mimetype": "application/julia",
   "name": "julia",
   "version": "1.5.2"
  }
 },
 "nbformat": 4,
 "nbformat_minor": 4
}
